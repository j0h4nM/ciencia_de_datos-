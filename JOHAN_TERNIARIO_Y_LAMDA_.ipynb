{
  "nbformat": 4,
  "nbformat_minor": 0,
  "metadata": {
    "colab": {
      "provenance": [],
      "include_colab_link": true
    },
    "kernelspec": {
      "name": "python3",
      "display_name": "Python 3"
    },
    "language_info": {
      "name": "python"
    }
  },
  "cells": [
    {
      "cell_type": "markdown",
      "metadata": {
        "id": "view-in-github",
        "colab_type": "text"
      },
      "source": [
        "<a href=\"https://colab.research.google.com/github/j0h4nM/ciencia_de_datos-/blob/main/JOHAN_TERNIARIO_Y_LAMDA_.ipynb\" target=\"_parent\"><img src=\"https://colab.research.google.com/assets/colab-badge.svg\" alt=\"Open In Colab\"/></a>"
      ]
    },
    {
      "cell_type": "markdown",
      "source": [
        "##OPERADOR TERNIARIO\n"
      ],
      "metadata": {
        "id": "9xKYkapIqcgS"
      }
    },
    {
      "cell_type": "code",
      "source": [
        "num = int(input(\"Ingrese un numero: \"))\n",
        "print(f\"{num} es par\") if num%2==0 else print(f\"{num} es impar\")"
      ],
      "metadata": {
        "colab": {
          "base_uri": "https://localhost:8080/"
        },
        "id": "Rm5v2dBZrMyB",
        "outputId": "b5cc2d18-28b8-42ef-f682-f85bc9517c48"
      },
      "execution_count": null,
      "outputs": [
        {
          "output_type": "stream",
          "name": "stdout",
          "text": [
            "Ingrese un numero: 4\n",
            "4 es par\n"
          ]
        }
      ]
    },
    {
      "cell_type": "code",
      "source": [
        "año = int(input(\"ingrese un año \"))\n",
        "print(f\"{año} es bisiesto\") if año%4==0 else print(f\"{año} no es bisiesto\")"
      ],
      "metadata": {
        "id": "zpa_N0V6sDhY"
      },
      "execution_count": null,
      "outputs": []
    },
    {
      "cell_type": "code",
      "source": [
        "nombre = input(\"ingrese su nombre \")\n",
        "edad = int(input(\"ingrse su edad \"))\n",
        "print(f\"{nombre} perteneces a la tercera edad\") if edad>=70 else print(f\"{nombre} no perteneces a la tercera edad\")"
      ],
      "metadata": {
        "colab": {
          "base_uri": "https://localhost:8080/"
        },
        "id": "OZc8iFepshkg",
        "outputId": "a293dd24-1ba7-45fb-fce5-9ba0c961b3b8"
      },
      "execution_count": null,
      "outputs": [
        {
          "output_type": "stream",
          "name": "stdout",
          "text": [
            "ingrese su nombre J\n",
            "ingrse su edad71\n",
            "J perteneces a la tercera edad\n"
          ]
        }
      ]
    },
    {
      "cell_type": "code",
      "source": [
        "numero_1 = int(input(\"ingrese un numero \"))\n",
        "numero_2 = int(input(\"ingrese un numero \"))\n",
        "numero_3= int(input(\"ingrese un numero \"))\n",
        "print(f\"{numero_1} es el mayor\") if numero_1>numero_2 and numero_1>numero_3 else print(f\"{numero_2} es el mayor\") if numero_2>numero_1 and numero_2>numero_3 else print(f\"{numero_3} es el mayor\")"
      ],
      "metadata": {
        "id": "SDQ6JpYftY-H"
      },
      "execution_count": null,
      "outputs": []
    },
    {
      "cell_type": "code",
      "source": [
        "lado_1= float(input(\"ingrese el lado 1 \"))\n",
        "lado_2= float(input(\"ingrese el lado 2 \"))\n",
        "lado_3= float(input(\"ingrese el lado 3 \"))\n",
        "print(f\"es un triangulo equilatero\") if lado_1==lado_2 and lado_2==lado_3 else print(f\"es un triangulo isoceles\") if lado_2==lado_1 and lado_2==lado_3 or lado_3==lado_1 and lado_3==lado_2 else print(f\"es un triangulo escaleno\")"
      ],
      "metadata": {
        "id": "oHH0DFi1u6on"
      },
      "execution_count": null,
      "outputs": []
    },
    {
      "cell_type": "markdown",
      "source": [
        "##LAMDA"
      ],
      "metadata": {
        "id": "VPEu_3lX9O8R"
      }
    },
    {
      "cell_type": "code",
      "source": [
        "Doble = lambda num: num*2\n",
        "print(Doble(5))"
      ],
      "metadata": {
        "colab": {
          "base_uri": "https://localhost:8080/"
        },
        "id": "97qNfTxEv9vl",
        "outputId": "a9a722fb-2f9b-4a22-dd7e-72d439dbd413"
      },
      "execution_count": null,
      "outputs": [
        {
          "output_type": "stream",
          "name": "stdout",
          "text": [
            "10\n"
          ]
        }
      ]
    },
    {
      "cell_type": "code",
      "source": [
        "triangulo =lambda a,b,c: \"es un triangulo\" if a+b>b and a+c>b and b+c>a else \"no es un triangulo\""
      ],
      "metadata": {
        "id": "TOlm0sgU0ImC"
      },
      "execution_count": null,
      "outputs": []
    },
    {
      "cell_type": "code",
      "source": [
        "triangulo_1= lambda a,b,c: \"es un triangulo equilatero\" if a==b and a==c else \"es un triangulo isoceles\" if a==b or a==c or b==c else \"es un triangulo escaleno\""
      ],
      "metadata": {
        "id": "O42LN89y1o4p"
      },
      "execution_count": null,
      "outputs": []
    },
    {
      "cell_type": "code",
      "source": [
        "a= float(input(\"ingrese el lado 1 \"))\n",
        "b= float(input(\"ingrese el lado 2 \"))\n",
        "c= float(input(\"ingrese el lado 3 \"))"
      ],
      "metadata": {
        "id": "I5NxzuKD12PQ"
      },
      "execution_count": null,
      "outputs": []
    },
    {
      "cell_type": "code",
      "source": [
        "multiplicador = lambda num: [print(num,\"X\", i, \"=\", num*i)for i in range(10)]"
      ],
      "metadata": {
        "id": "x9kUbeDL2w0H"
      },
      "execution_count": null,
      "outputs": []
    },
    {
      "cell_type": "code",
      "source": [
        "multiplicador(5)"
      ],
      "metadata": {
        "id": "WuCaEwGD4mEm"
      },
      "execution_count": null,
      "outputs": []
    }
  ]
}