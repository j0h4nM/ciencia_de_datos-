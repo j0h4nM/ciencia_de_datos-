{
  "nbformat": 4,
  "nbformat_minor": 0,
  "metadata": {
    "colab": {
      "provenance": [],
      "include_colab_link": true
    },
    "kernelspec": {
      "name": "python3",
      "display_name": "Python 3"
    },
    "language_info": {
      "name": "python"
    }
  },
  "cells": [
    {
      "cell_type": "markdown",
      "metadata": {
        "id": "view-in-github",
        "colab_type": "text"
      },
      "source": [
        "<a href=\"https://colab.research.google.com/github/j0h4nM/ciencia_de_datos-/blob/main/%5BPROGCOM_A%5D_johan_lizcano.ipynb\" target=\"_parent\"><img src=\"https://colab.research.google.com/assets/colab-badge.svg\" alt=\"Open In Colab\"/></a>"
      ]
    },
    {
      "cell_type": "markdown",
      "source": [
        "2. Identifique de cada ejercicio, cuáles datos son suministrados y qué tipo de datos son.\n",
        "3. Entregue el ejercicio 10 minutos antes de finalizar la clase. Recuerde que debe intentar resolver los ejercicios con **lo que recuerde**. Resolver esta actividad no dará experiencia."
      ],
      "metadata": {
        "id": "UOoCrfU4Irw4"
      }
    },
    {
      "cell_type": "markdown",
      "source": [
        "##**EJERCICIOS**\n",
        "1. Escribe un programa que calcule el área de un triángulo pidiendo base y\n",
        "altura al usuario.\n",
        "2. Crea un programa que convierta grados Celsius a Fahrenheit usando la fórmula: °F = (°C × 9/5) + 32\n",
        "3. Desarrolla un programa que calcule el promedio de tres números ingresados por el usuario.\n",
        "4. Escribe un programa que calcule el perímetro y área de un círculo dado su radio.\n",
        "5. Crea un programa que resuelva una ecuación cuadrática (ax² + bx + c = 0) pidiendo los valores de a, b y c.\n",
        "6. Desarrolla un programa que determine si un número es par o impar.\n",
        "7. Crea un programa que determine si un año es bisiesto (divisible por 4 y no por 100, o divisible por 400).\n",
        "8. Escribe un programa que solicite el nombre del usuario y determine si una persona pertenece a la tercera edad (70 años o más) y si se cumple la condición, imprima que se le da prioridad en la fila.\n",
        "9. Desarrolla un programa que compare tres números y muestre el mayor.\n",
        "10. Crea un programa que determine si un triángulo es equilátero, isósceles o escaleno según sus lados.\n",
        "11. Escribe un programa que calcule el índice de masa corporal (IMC) y determine la categoría (bajo peso, normal, sobrepeso, obesidad). Al final, el programa debe imprimir: el nombre del usuario, su categoría y una breve descripción de lo que debe hacer de acuerdo a su categoría.\n",
        "12. Desarrolla un programa que simule una calculadora simple (+, -, *, /) con dos números.\n",
        "13. Crea un programa que determine la calificación en letras (A, B, C, D, F) según una nota numérica (0-100).\n",
        "14. Escribe un programa que determine el día de la semana según un número (1-7).\n",
        "15. Desarrolla un programa que valide si tres números pueden formar un triángulo y de qué tipo es.\n",
        "\n",
        "###De este punto en adelante, todos los ejercicios deben resolverse empleando el ciclo para y el ciclo mientras.\n",
        "\n",
        "16. Crea un programa que muestre la tabla de multiplicar de un número hasta el 10.\n",
        "17. Escribe un programa que calcule la suma de números naturales hasta n.\n",
        "18. Desarrolla un programa que calcule el factorial de un número. Recuerda que el factorial de 0 es 1 y no existen factoriales negativos.\n",
        "19. Crea un programa que muestre los primeros n números de la serie Fibonacci.\n",
        "20. Escribe un programa que adivine entre un conjunto de diez colores definidos por el usuario, con un máximo de 10 intentos.\n",
        "21. Desarrolla un programa que muestre los números pares del 1 al 100.\n",
        "22. Crea un programa que calcule la suma de los dígitos de un número.\n",
        "23. Escribe un programa que determine si un número es primo.\n",
        "24. Desarrolla un programa que muestre el patrón de un triángulo con asteriscos.\n",
        "25. Crea un programa que calcule la potencia de un número sin usar el operador **.\n",
        "\n",
        "###A partir de este punto, desarrolle los ejercicios empleando funciones\n",
        "26. Escribe un programa que muestre todas las tablas de multiplicar del 1 al 10.\n",
        "27. Desarrolla un programa que encuentre todos los números perfectos hasta n.\n",
        "28. Crea un programa que genere un patrón de diamante con asteriscos.\n",
        "29. Escribe un programa que encuentre todos los números Armstrong hasta n.\n",
        "30. Desarrolla un programa que simule un reloj digital mostrando horas, minutos y segundos durante un período específico."
      ],
      "metadata": {
        "id": "4x2k8LUlLy3V"
      }
    },
    {
      "cell_type": "code",
      "execution_count": null,
      "metadata": {
        "id": "io7it0FFH_Pj",
        "colab": {
          "base_uri": "https://localhost:8080/"
        },
        "outputId": "ee246ef0-0fc4-482d-e000-5fa45194077e"
      },
      "outputs": [
        {
          "output_type": "stream",
          "name": "stdout",
          "text": [
            "ingresar la base del trianglo:5\n",
            "ingresar la altura del trianglo:10\n",
            "el area es:25.0\n"
          ]
        }
      ],
      "source": [
        "base = float(input(\"ingresar la base del trianglo:\"))\n",
        "altura=float(input(\"ingresar la altura del trianglo:\"))\n",
        "\n",
        "area=(base*altura)/2\n",
        "print(f\"el area es:{area}\")"
      ]
    },
    {
      "cell_type": "code",
      "source": [
        "c=float(input(\"ingresar temperatura en celcius:\"))\n",
        "f=(c*9/5)+32\n",
        "print(f\"{c} celcius equivale a{f} farenheit\")"
      ],
      "metadata": {
        "colab": {
          "base_uri": "https://localhost:8080/"
        },
        "id": "_OTcRzBAgMM4",
        "outputId": "5f73faef-e4f2-4db0-8640-c081b430cd1f"
      },
      "execution_count": null,
      "outputs": [
        {
          "output_type": "stream",
          "name": "stdout",
          "text": [
            "ingresar temperatura en celcius:25\n",
            "25.0 celcius equivale a77.0 farenheit\n"
          ]
        }
      ]
    },
    {
      "cell_type": "code",
      "source": [
        "n1=float(input(\"ingresar primer numero\"))\n",
        "n2=float(input(\"ingresar segundo numero\"))\n",
        "n3=float(input(\"ingresar tercer numero\"))\n",
        "\n",
        "promedio=(n1+n2+n3)/3\n",
        "print(f\"el promedio es {promedio}\")"
      ],
      "metadata": {
        "colab": {
          "base_uri": "https://localhost:8080/"
        },
        "id": "LGEDsdRzh6a2",
        "outputId": "4e5dfc70-c784-4d6c-c33a-7cc835ba6fe0"
      },
      "execution_count": null,
      "outputs": [
        {
          "output_type": "stream",
          "name": "stdout",
          "text": [
            "ingresar primer numero10\n",
            "ingresar segundo numero6\n",
            "ingresar tercer numero5\n",
            "el promedio es 7.0\n"
          ]
        }
      ]
    },
    {
      "cell_type": "code",
      "source": [
        "pi=3.1416\n",
        "r=float(input(\"ungresar radio\"))\n",
        "p=2*pi*r\n",
        "area= pi*(r**2)\n",
        "print(f\"el perimetro del circulo es:{p}\")\n",
        "print(f\"el area del circulo es:{area}\")"
      ],
      "metadata": {
        "colab": {
          "base_uri": "https://localhost:8080/"
        },
        "id": "5DdRn03njg3F",
        "outputId": "e13c5e39-a572-4d39-822a-2e804193c9ec"
      },
      "execution_count": null,
      "outputs": [
        {
          "output_type": "stream",
          "name": "stdout",
          "text": [
            "ungresar radio20\n",
            "el perimetro del circulo es:125.664\n",
            "el area del circulo es:1256.6399999999999\n"
          ]
        }
      ]
    },
    {
      "cell_type": "code",
      "source": [
        "a=float(input(\"ingresar valor de a\"))\n",
        "b=float(input(\"ingresar valor de b\"))\n",
        "c=float(input(\"ingresar valor de c\"))\n",
        "\n",
        "d=b**2-4*a*c\n",
        "\n",
        "x1=(-b+(d**0.5))/(2*a)\n",
        "x2=(-b-(d**0.5))/(2*a)\n",
        "print(f\"la solucion es:{x1},{x2}\")"
      ],
      "metadata": {
        "colab": {
          "base_uri": "https://localhost:8080/"
        },
        "id": "K5cRD1aEk6n8",
        "outputId": "0416da85-b1f1-42b4-bc53-206cf35d0660"
      },
      "execution_count": null,
      "outputs": [
        {
          "output_type": "stream",
          "name": "stdout",
          "text": [
            "ingresar valor de a5\n",
            "ingresar valor de b52\n",
            "ingresar valor de c65\n",
            "la solucion es:-1.4530012009609614,-8.94699879903904\n"
          ]
        }
      ]
    },
    {
      "cell_type": "code",
      "source": [
        "n=int(input(\"ingresar numero\"))\n",
        "if n % 2==0:\n",
        " print(f\"el numero {n}es par\")\n",
        "else:\n",
        " print(f\"el numero {n}es inpar\")"
      ],
      "metadata": {
        "colab": {
          "base_uri": "https://localhost:8080/"
        },
        "id": "VG9U5Icwmjpj",
        "outputId": "0d8b0b1a-eed9-4314-c4dc-1271ac10f1e1"
      },
      "execution_count": null,
      "outputs": [
        {
          "output_type": "stream",
          "name": "stdout",
          "text": [
            "ingresar numero5\n",
            "el numero 5es inpar\n"
          ]
        }
      ]
    },
    {
      "cell_type": "code",
      "source": [
        "a= int(input(\"ingresa un año:\"))\n",
        "if (a % 4==0 and a % 100!=0) or (a % 400==0):\n",
        "  print(f\"el año{a}es bisiento\")\n",
        "else:\n",
        "  print(f\"el año {a} no es bisiento\")\n"
      ],
      "metadata": {
        "colab": {
          "base_uri": "https://localhost:8080/"
        },
        "id": "wM8D9V7VnNlL",
        "outputId": "b2b9252e-f7f4-464b-e7b1-ebe5fdd0c543"
      },
      "execution_count": null,
      "outputs": [
        {
          "output_type": "stream",
          "name": "stdout",
          "text": [
            "ingresa un año:20025\n",
            "el año 20025 no es bisiento\n"
          ]
        }
      ]
    },
    {
      "cell_type": "code",
      "source": [
        "nacio=int(input(\"ingresar los años que tiene \"))\n",
        "if nacio>= 70:\n",
        "  print(f\"te damos prioridad en la fila\")\n",
        "else:\n",
        "    print(f\"no te damos prioridad en la fila\")"
      ],
      "metadata": {
        "colab": {
          "base_uri": "https://localhost:8080/"
        },
        "id": "VoVVRm4uonlh",
        "outputId": "5e389b7d-e786-42eb-cb07-cf15a9bf3593"
      },
      "execution_count": null,
      "outputs": [
        {
          "output_type": "stream",
          "name": "stdout",
          "text": [
            "ingresar los años que tiene 80\n",
            "te damos prioridad en la fila\n"
          ]
        }
      ]
    },
    {
      "cell_type": "code",
      "source": [
        "n1=float(input(\"ingresar primer numero\"))\n",
        "n2=float(input(\"ingresar segundo numero\"))\n",
        "n3=float(input(\"ingresar tercer numero\"))\n",
        "if n1>=n2 and n1>=n3:\n",
        "  print(f\"el numero mayor es {n1}\")\n",
        "elif n2>=n1 and n2>=n3:\n",
        "  print(f\"el numero mayor es {n2}\")\n",
        "else:\n",
        "  print(f\"el numero mayor es {n3}\")\n"
      ],
      "metadata": {
        "colab": {
          "base_uri": "https://localhost:8080/"
        },
        "id": "Qot6IIgpp8Gw",
        "outputId": "834bee54-d0ba-4210-e00a-3d6ee2cc4c18"
      },
      "execution_count": null,
      "outputs": [
        {
          "output_type": "stream",
          "name": "stdout",
          "text": [
            "ingresar primer numero23\n",
            "ingresar segundo numero21\n",
            "ingresar tercer numero123\n",
            "el numero mayor es 123.0\n"
          ]
        }
      ]
    },
    {
      "cell_type": "code",
      "source": [
        "l1=float(input(\"ingresar primer lado\"))\n",
        "l2=float(input(\"ingresar segundo lado\"))\n",
        "l3=float(input(\"ingresar tercer lado\"))\n",
        "\n",
        "trian=\"equilatero\" if l1== l2== l3 else \"isoseles\" if l1==l2 or l2==l3 or l1==l3 else \"escaleno\"\n",
        "print(f\"el triangulo es {trian}\")"
      ],
      "metadata": {
        "colab": {
          "base_uri": "https://localhost:8080/"
        },
        "id": "D0QZZO0cu698",
        "outputId": "83d30c1f-adc6-4f76-cdc9-b646524ebe1b"
      },
      "execution_count": null,
      "outputs": [
        {
          "output_type": "stream",
          "name": "stdout",
          "text": [
            "ingresar primer lado10\n",
            "ingresar segundo lado2\n",
            "ingresar tercer lado5\n",
            "el triangulo es escaleno\n"
          ]
        }
      ]
    },
    {
      "cell_type": "code",
      "source": [
        "nombre = input(\"Ingrese su nombre: \")\n",
        "peso = float(input(\"Ingrese su peso en kg: \"))\n",
        "altura = float(input(\"Ingrese su altura en metros: \"))\n",
        "\n",
        "\n",
        "imc = peso / (altura ** 2)\n",
        "\n",
        "\n",
        "if imc < 18.5:\n",
        "    categoria = \"Bajo peso\"\n",
        "    recomendacion = \"Es recomendable aumentar de peso con una dieta balanceada y ejercicio.\"\n",
        "elif 18.5 <= imc < 24.9:\n",
        "    categoria = \"Normal\"\n",
        "    recomendacion = \"Mantén un estilo de vida saludable con una dieta equilibrada y ejercicio regular.\"\n",
        "elif 25 <= imc < 29.9:\n",
        "    categoria = \"Sobrepeso\"\n",
        "    recomendacion = \"Es recomendable perder peso mediante una dieta controlada y actividad física regular.\"\n",
        "else:\n",
        "    categoria = \"Obesidad\"\n",
        "    recomendacion = \"Es importante consultar a un médico para crear un plan de pérdida de peso saludable.\"\n",
        "\n",
        "\n",
        "print(f\"\\n{nombre}, tu IMC es: {imc:.2f}\")\n",
        "print(f\"Categoría: {categoria}\")\n",
        "print(f\"Recomendación: {recomendacion}\")"
      ],
      "metadata": {
        "colab": {
          "base_uri": "https://localhost:8080/"
        },
        "id": "oeYH6GEnwYFr",
        "outputId": "e4f19be3-96b4-4209-bdea-5d83f99fa445"
      },
      "execution_count": null,
      "outputs": [
        {
          "output_type": "stream",
          "name": "stdout",
          "text": [
            "Ingrese su nombre: kjlkj\n",
            "Ingrese su peso en kg: 56\n",
            "Ingrese su altura en metros: 150\n",
            "\n",
            "kjlkj, tu IMC es: 0.00\n",
            "Categoría: Bajo peso\n",
            "Recomendación: Es recomendable aumentar de peso con una dieta balanceada y ejercicio.\n"
          ]
        }
      ]
    },
    {
      "cell_type": "code",
      "source": [
        "\n",
        "num1 = float(input(\"Ingrese el primer número: \"))\n",
        "num2 = float(input(\"Ingrese el segundo número: \"))\n",
        "\n",
        "print(\"Seleccione una operación:\")\n",
        "print(\"1. Sumar (+)\")\n",
        "print(\"2. Restar (-)\")\n",
        "print(\"3. Multiplicar (*)\")\n",
        "print(\"4. Dividir (/)\")\n",
        "\n",
        "operacion = input(\"Ingrese el número de la operación deseada (1/2/3/4): \")\n",
        "\n",
        "if operacion == \"1\":\n",
        "    resultado = num1 + num2\n",
        "    print(f\"El resultado de la suma es: {resultado}\")\n",
        "elif operacion == \"2\":\n",
        "    resultado = num1 - num2\n",
        "    print(f\"El resultado de la resta es: {resultado}\")\n",
        "elif operacion == \"3\":\n",
        "    resultado = num1 * num2\n",
        "    print(f\"El resultado de la multiplicación es: {resultado}\")\n",
        "elif operacion == \"4\":\n",
        "    if num2 != 0:\n",
        "        resultado = num1 / num2\n",
        "        print(f\"El resultado de la división es: {resultado}\")\n",
        "    else:\n",
        "        print(\"Error: No se puede dividir entre cero.\")\n",
        "else:\n",
        "    print(\"Operación no válida.\")"
      ],
      "metadata": {
        "colab": {
          "base_uri": "https://localhost:8080/"
        },
        "id": "g_U_fgiyxMja",
        "outputId": "19db1d95-b7b8-44b0-9c34-530f89570f66"
      },
      "execution_count": null,
      "outputs": [
        {
          "output_type": "stream",
          "name": "stdout",
          "text": [
            "Ingrese el primer número: 25\n",
            "Ingrese el segundo número: 30\n",
            "Seleccione una operación:\n",
            "1. Sumar (+)\n",
            "2. Restar (-)\n",
            "3. Multiplicar (*)\n",
            "4. Dividir (/)\n",
            "Ingrese el número de la operación deseada (1/2/3/4): 3\n",
            "El resultado de la multiplicación es: 750.0\n"
          ]
        }
      ]
    },
    {
      "cell_type": "code",
      "source": [
        "def obtener_calificacion_letra(nota):\n",
        "    if 90 <= nota <= 100:\n",
        "        return 'A'\n",
        "    elif 80 <= nota < 90:\n",
        "        return 'B'\n",
        "    elif 70 <= nota < 80:\n",
        "        return 'C'\n",
        "    elif 60 <= nota < 70:\n",
        "        return 'D'\n",
        "    elif 0 <= nota < 60:\n",
        "        return 'F'\n",
        "    else:\n",
        "        return \"Nota no válida\"\n",
        "\n",
        "try:\n",
        "    nota = float(input(\"Ingresa la calificación numérica (0-100): \"))\n",
        "    calificacion_letra = obtener_calificacion_letra(nota)\n",
        "    print(f\"La calificación en letra es: {calificacion_letra}\")\n",
        "except ValueError:\n",
        "    print(\"Por favor, ingresa un número válido.\")\n"
      ],
      "metadata": {
        "colab": {
          "base_uri": "https://localhost:8080/"
        },
        "id": "CmsCc4Z3xXCy",
        "outputId": "e4a49fc8-2090-4079-84bf-9dd5feb2efe8"
      },
      "execution_count": null,
      "outputs": [
        {
          "output_type": "stream",
          "name": "stdout",
          "text": [
            "Ingresa la calificación numérica (0-100): 60\n",
            "La calificación en letra es: D\n"
          ]
        }
      ]
    },
    {
      "cell_type": "code",
      "source": [
        "def dia_de_la_semana(numero):\n",
        "    dias = {\n",
        "        1: \"Lunes\",\n",
        "        2: \"Martes\",\n",
        "        3: \"Miércoles\",\n",
        "        4: \"Jueves\",\n",
        "        5: \"Viernes\",\n",
        "        6: \"Sábado\",\n",
        "        7: \"Domingo\"\n",
        "    }\n",
        "    return dias.get(numero, \"Número inválido. Debe ser entre 1 y 7.\")\n",
        "\n",
        "numero = int(input(\"Ingresa un número entre 1 y 7 para conocer el día de la semana: \"))\n",
        "\n",
        "dia = dia_de_la_semana(numero)\n",
        "\n",
        "print(f\"El día correspondiente es: {dia}\")\n"
      ],
      "metadata": {
        "colab": {
          "base_uri": "https://localhost:8080/"
        },
        "id": "OAkQ9YFqxsea",
        "outputId": "b81a9427-6ecd-4085-a2f3-9324f7c02114"
      },
      "execution_count": null,
      "outputs": [
        {
          "output_type": "stream",
          "name": "stdout",
          "text": [
            "Ingresa un número entre 1 y 7 para conocer el día de la semana: 5\n",
            "El día correspondiente es: Viernes\n"
          ]
        }
      ]
    },
    {
      "cell_type": "code",
      "source": [
        "def tipo_de_triangulo(a, b, c):\n",
        "    if a + b > c and a + c > b and b + c > a:\n",
        "        if a == b == c:\n",
        "            return \"Equilátero\"\n",
        "        elif a == b or a == c or b == c:\n",
        "            return \"Isósceles\"\n",
        "        else:\n",
        "            return \"Escaleno\"\n",
        "    else:\n",
        "        return \"No se puede formar un triángulo\"\n",
        "\n",
        "a = float(input(\"Ingresa el primer lado del triángulo: \"))\n",
        "b = float(input(\"Ingresa el segundo lado del triángulo: \"))\n",
        "c = float(input(\"Ingresa el tercer lado del triángulo: \"))\n",
        "\n",
        "resultado = tipo_de_triangulo(a, b, c)\n",
        "\n",
        "print(f\"Resultado: {resultado}\")\n"
      ],
      "metadata": {
        "colab": {
          "base_uri": "https://localhost:8080/"
        },
        "id": "DHN5XN2AyL3h",
        "outputId": "054c3e8a-72de-4d9e-a793-75907455a57a"
      },
      "execution_count": null,
      "outputs": [
        {
          "output_type": "stream",
          "name": "stdout",
          "text": [
            "Ingresa el primer lado del triángulo: 10\n",
            "Ingresa el segundo lado del triángulo: 25\n",
            "Ingresa el tercer lado del triángulo: 32\n",
            "Resultado: Escaleno\n"
          ]
        }
      ]
    },
    {
      "cell_type": "code",
      "source": [
        "def tabla_multiplicar_for(numero):\n",
        "    print(f\"Tabla de multiplicar del {numero}:\")\n",
        "    for i in range(1, 11):\n",
        "        print(f\"{numero} x {i} = {numero * i}\")\n",
        "\n",
        "numero = int(input(\"Ingresa un número para ver su tabla de multiplicar: \"))\n",
        "\n",
        "tabla_multiplicar_for(numero)\n"
      ],
      "metadata": {
        "colab": {
          "base_uri": "https://localhost:8080/"
        },
        "id": "TjzWV-mjyR3h",
        "outputId": "98e340e2-0dd9-4463-c41f-ce3025c36207"
      },
      "execution_count": null,
      "outputs": [
        {
          "output_type": "stream",
          "name": "stdout",
          "text": [
            "Ingresa un número para ver su tabla de multiplicar: 25\n",
            "Tabla de multiplicar del 25:\n",
            "25 x 1 = 25\n",
            "25 x 2 = 50\n",
            "25 x 3 = 75\n",
            "25 x 4 = 100\n",
            "25 x 5 = 125\n",
            "25 x 6 = 150\n",
            "25 x 7 = 175\n",
            "25 x 8 = 200\n",
            "25 x 9 = 225\n",
            "25 x 10 = 250\n"
          ]
        }
      ]
    },
    {
      "cell_type": "code",
      "source": [
        "def suma_naturales_for(n):\n",
        "    suma = 0\n",
        "    for i in range(1, n + 1):\n",
        "        suma += i\n",
        "    return suma\n",
        "n = int(input(\"Ingresa un número natural (n) para calcular la suma hasta n: \"))\n",
        "\n",
        "resultado = suma_naturales_for(n)\n",
        "print(f\"La suma de los números naturales hasta {n} es: {resultado}\")\n"
      ],
      "metadata": {
        "colab": {
          "base_uri": "https://localhost:8080/"
        },
        "id": "-GJ8DRjyy58h",
        "outputId": "fb3b13f1-6986-44a7-e396-abf175a42f48"
      },
      "execution_count": null,
      "outputs": [
        {
          "output_type": "stream",
          "name": "stdout",
          "text": [
            "Ingresa un número natural (n) para calcular la suma hasta n: 15\n",
            "La suma de los números naturales hasta 15 es: 120\n"
          ]
        }
      ]
    },
    {
      "cell_type": "code",
      "source": [
        "def factorial_for(n):\n",
        "    if n < 0:\n",
        "        return \"No existen factoriales negativos\"\n",
        "    resultado = 1\n",
        "    for i in range(1, n + 1):\n",
        "        resultado *= i\n",
        "    return resultado\n",
        "\n",
        "n = int(input(\"Ingresa un número para calcular su factorial: \"))\n",
        "\n",
        "resultado = factorial_for(n)\n",
        "print(f\"El factorial de {n} es: {resultado}\")\n"
      ],
      "metadata": {
        "colab": {
          "base_uri": "https://localhost:8080/"
        },
        "id": "Ai83HRjR1S4n",
        "outputId": "971d4225-ebbd-4a80-d224-bd4a47086658"
      },
      "execution_count": null,
      "outputs": [
        {
          "output_type": "stream",
          "name": "stdout",
          "text": [
            "Ingresa un número para calcular su factorial: 25\n",
            "El factorial de 25 es: 15511210043330985984000000\n"
          ]
        }
      ]
    },
    {
      "cell_type": "code",
      "source": [
        "fibonacci_for = lambda n: [0, 1] if n <= 2 else [0, 1] + [sum([0, 1])] * (n - 2)\n",
        "\n",
        "n = int(input(\"Ingresa el número de términos de la serie Fibonacci: \"))\n",
        "\n",
        "fibonacci = fibonacci_for(n)\n",
        "print(f\"Los primeros {n} términos de la serie Fibonacci son: {fibonacci}\")\n"
      ],
      "metadata": {
        "colab": {
          "base_uri": "https://localhost:8080/"
        },
        "id": "CtR1SEVK1g93",
        "outputId": "b26939e5-2f03-44fe-f965-aa4522bade79"
      },
      "execution_count": null,
      "outputs": [
        {
          "output_type": "stream",
          "name": "stdout",
          "text": [
            "Ingresa el número de términos de la serie Fibonacci: 2\n",
            "Los primeros 2 términos de la serie Fibonacci son: [0, 1]\n"
          ]
        }
      ]
    },
    {
      "cell_type": "code",
      "source": [
        "import random\n",
        "\n",
        "adivina_color = lambda colores, intento: random.choice(colores)\n",
        "\n",
        "def adivina_colores():\n",
        "    colores = [input(f\"Ingrese el color {i+1}: \") for i in range(10)]\n",
        "\n",
        "    color_seleccionado = random.choice(colores)\n",
        "\n",
        "    intentos = 0\n",
        "    max_intentos = 10\n",
        "    color_adivinado = False\n",
        "\n",
        "    print(\"He seleccionado un color de entre los 10 que proporcionaste.\")\n",
        "\n",
        "    while intentos < max_intentos and not color_adivinado:\n",
        "        intento = input(f\"Intento {intentos + 1}/{max_intentos}. Adivina el color: \")\n",
        "        if intento == color_seleccionado:\n",
        "            color_adivinado = True\n",
        "            print(f\"¡Correcto! El color era {color_seleccionado}.\")\n",
        "        else:\n",
        "            intentos += 1\n",
        "            print(\"Incorrecto, intenta nuevamente.\")\n",
        "\n",
        "    if not color_adivinado:\n",
        "        print(f\"Lo siento, no has adivinado el color en {max_intentos} intentos. El color correcto era {color_seleccionado}.\")\n",
        "2\n",
        "adivina_colores()\n"
      ],
      "metadata": {
        "colab": {
          "base_uri": "https://localhost:8080/"
        },
        "id": "QeU9cj881mde",
        "outputId": "1e48212d-85be-4fdd-8de5-0b5b639b3a1d"
      },
      "execution_count": null,
      "outputs": [
        {
          "output_type": "stream",
          "name": "stdout",
          "text": [
            "Ingrese el color 1: azul\n",
            "Ingrese el color 2: rojo\n",
            "Ingrese el color 3: verde\n",
            "Ingrese el color 4: azul\n",
            "Ingrese el color 5: azul\n",
            "Ingrese el color 6: azul\n",
            "Ingrese el color 7: azul\n",
            "Ingrese el color 8: azul\n",
            "Ingrese el color 9: azul\n",
            "Ingrese el color 10: azuñ\n",
            "He seleccionado un color de entre los 10 que proporcionaste.\n",
            "Intento 1/10. Adivina el color: 5\n",
            "Incorrecto, intenta nuevamente.\n",
            "Intento 2/10. Adivina el color: 4\n",
            "Incorrecto, intenta nuevamente.\n",
            "Intento 3/10. Adivina el color: \n",
            "Incorrecto, intenta nuevamente.\n",
            "Intento 4/10. Adivina el color: 4\n",
            "Incorrecto, intenta nuevamente.\n",
            "Intento 5/10. Adivina el color: 2\n",
            "Incorrecto, intenta nuevamente.\n",
            "Intento 6/10. Adivina el color: 2\n",
            "Incorrecto, intenta nuevamente.\n",
            "Intento 7/10. Adivina el color: 2\n",
            "Incorrecto, intenta nuevamente.\n",
            "Intento 8/10. Adivina el color: 2\n",
            "Incorrecto, intenta nuevamente.\n",
            "Intento 9/10. Adivina el color: 2\n",
            "Incorrecto, intenta nuevamente.\n",
            "Intento 10/10. Adivina el color: \n",
            "Incorrecto, intenta nuevamente.\n",
            "Lo siento, no has adivinado el color en 10 intentos. El color correcto era azul.\n"
          ]
        }
      ]
    },
    {
      "cell_type": "code",
      "source": [
        "numeros_pares = lambda: [i for i in range(1, 101) if i % 2 == 0]\n",
        "\n",
        "print(\"Números pares del 1 al 100:\")\n",
        "print(numeros_pares())\n"
      ],
      "metadata": {
        "colab": {
          "base_uri": "https://localhost:8080/"
        },
        "id": "AvdjZ4K-2J3m",
        "outputId": "d1d9a7d2-6684-4935-8720-6129fde0b4a3"
      },
      "execution_count": null,
      "outputs": [
        {
          "output_type": "stream",
          "name": "stdout",
          "text": [
            "Números pares del 1 al 100:\n",
            "[2, 4, 6, 8, 10, 12, 14, 16, 18, 20, 22, 24, 26, 28, 30, 32, 34, 36, 38, 40, 42, 44, 46, 48, 50, 52, 54, 56, 58, 60, 62, 64, 66, 68, 70, 72, 74, 76, 78, 80, 82, 84, 86, 88, 90, 92, 94, 96, 98, 100]\n"
          ]
        }
      ]
    },
    {
      "cell_type": "code",
      "source": [
        "suma_digitos_for = lambda num: sum(int(d) for d in str(num))\n",
        "\n",
        "numero = int(input(\"Ingresa un número para calcular la suma de sus dígitos: \"))\n",
        "\n",
        "resultado = suma_digitos_for(numero)\n",
        "print(f\"La suma de los dígitos de {numero} es: {resultado}\")\n"
      ],
      "metadata": {
        "colab": {
          "base_uri": "https://localhost:8080/"
        },
        "id": "dfZy7LwL2Nhm",
        "outputId": "35e0bb18-b992-4798-db0c-8e40aa22543c"
      },
      "execution_count": null,
      "outputs": [
        {
          "output_type": "stream",
          "name": "stdout",
          "text": [
            "Ingresa un número para calcular la suma de sus dígitos: 25\n",
            "La suma de los dígitos de 25 es: 7\n"
          ]
        }
      ]
    },
    {
      "cell_type": "code",
      "source": [
        "es_primo = lambda num: num > 1 and all(num % i != 0 for i in range(2, num))\n",
        "\n",
        "numero = int(input(\"Ingresa un número para verificar si es primo: \"))\n",
        "\n",
        "if es_primo(numero):\n",
        "    print(f\"{numero} es un número primo.\")\n",
        "else:\n",
        "    print(f\"{numero} no es un número primo.\")\n"
      ],
      "metadata": {
        "colab": {
          "base_uri": "https://localhost:8080/"
        },
        "id": "x_7upHjN2aMW",
        "outputId": "4d2c139d-b697-4151-bd12-4958713c540e"
      },
      "execution_count": null,
      "outputs": [
        {
          "output_type": "stream",
          "name": "stdout",
          "text": [
            "Ingresa un número para verificar si es primo: 12\n",
            "12 no es un número primo.\n"
          ]
        }
      ]
    },
    {
      "cell_type": "code",
      "source": [
        "def patron_triangulo_for(filas):\n",
        "    for i in range(1, filas + 1):\n",
        "        print('*' * i)\n",
        "\n",
        "filas = int(input(\"Ingresa el número de filas para el triángulo: \"))\n",
        "\n",
        "patron_triangulo_for(filas)\n"
      ],
      "metadata": {
        "colab": {
          "base_uri": "https://localhost:8080/"
        },
        "id": "VWGVW1o42j4G",
        "outputId": "624d2f16-482b-4631-a07b-50b20473168d"
      },
      "execution_count": null,
      "outputs": [
        {
          "output_type": "stream",
          "name": "stdout",
          "text": [
            "Ingresa el número de filas para el triángulo: 3\n",
            "*\n",
            "**\n",
            "***\n"
          ]
        }
      ]
    },
    {
      "cell_type": "code",
      "source": [
        "def calcular_potencia_for(base, exponente):\n",
        "    resultado = 1\n",
        "    for _ in range(exponente):\n",
        "        resultado *= base\n",
        "    return resultado\n",
        "\n",
        "base = int(input(\"Ingresa la base: \"))\n",
        "exponente = int(input(\"Ingresa el exponente: \"))\n",
        "2\n",
        "potencia = calcular_potencia_for(base, exponente)\n",
        "print(f\"{base} elevado a {exponente} es: {potencia}\")\n"
      ],
      "metadata": {
        "colab": {
          "base_uri": "https://localhost:8080/"
        },
        "id": "5nmssxvr2uot",
        "outputId": "4a840e62-eaa9-47fd-9a24-5669c5d33d05"
      },
      "execution_count": null,
      "outputs": [
        {
          "output_type": "stream",
          "name": "stdout",
          "text": [
            "Ingresa la base: 20\n",
            "Ingresa el exponente: 2\n",
            "20 elevado a 2 es: 400\n"
          ]
        }
      ]
    },
    {
      "cell_type": "code",
      "source": [
        "tabla_multiplicar = lambda num: [f\"{num} x {i} = {num * i}\" for i in range(1, 11)]\n",
        "\n",
        "def mostrar_tablas():\n",
        "    for num in range(1, 11):\n",
        "        print(f\"Tabla de {num}:\")\n",
        "        for operacion in tabla_multiplicar(num):\n",
        "            print(operacion)\n",
        "        print()\n",
        "\n",
        "mostrar_tablas()\n"
      ],
      "metadata": {
        "colab": {
          "base_uri": "https://localhost:8080/"
        },
        "id": "OFfvuc9-23zl",
        "outputId": "6023c958-47a6-4ee6-badc-d24e81e00480"
      },
      "execution_count": null,
      "outputs": [
        {
          "output_type": "stream",
          "name": "stdout",
          "text": [
            "Tabla de 1:\n",
            "1 x 1 = 1\n",
            "1 x 2 = 2\n",
            "1 x 3 = 3\n",
            "1 x 4 = 4\n",
            "1 x 5 = 5\n",
            "1 x 6 = 6\n",
            "1 x 7 = 7\n",
            "1 x 8 = 8\n",
            "1 x 9 = 9\n",
            "1 x 10 = 10\n",
            "\n",
            "Tabla de 2:\n",
            "2 x 1 = 2\n",
            "2 x 2 = 4\n",
            "2 x 3 = 6\n",
            "2 x 4 = 8\n",
            "2 x 5 = 10\n",
            "2 x 6 = 12\n",
            "2 x 7 = 14\n",
            "2 x 8 = 16\n",
            "2 x 9 = 18\n",
            "2 x 10 = 20\n",
            "\n",
            "Tabla de 3:\n",
            "3 x 1 = 3\n",
            "3 x 2 = 6\n",
            "3 x 3 = 9\n",
            "3 x 4 = 12\n",
            "3 x 5 = 15\n",
            "3 x 6 = 18\n",
            "3 x 7 = 21\n",
            "3 x 8 = 24\n",
            "3 x 9 = 27\n",
            "3 x 10 = 30\n",
            "\n",
            "Tabla de 4:\n",
            "4 x 1 = 4\n",
            "4 x 2 = 8\n",
            "4 x 3 = 12\n",
            "4 x 4 = 16\n",
            "4 x 5 = 20\n",
            "4 x 6 = 24\n",
            "4 x 7 = 28\n",
            "4 x 8 = 32\n",
            "4 x 9 = 36\n",
            "4 x 10 = 40\n",
            "\n",
            "Tabla de 5:\n",
            "5 x 1 = 5\n",
            "5 x 2 = 10\n",
            "5 x 3 = 15\n",
            "5 x 4 = 20\n",
            "5 x 5 = 25\n",
            "5 x 6 = 30\n",
            "5 x 7 = 35\n",
            "5 x 8 = 40\n",
            "5 x 9 = 45\n",
            "5 x 10 = 50\n",
            "\n",
            "Tabla de 6:\n",
            "6 x 1 = 6\n",
            "6 x 2 = 12\n",
            "6 x 3 = 18\n",
            "6 x 4 = 24\n",
            "6 x 5 = 30\n",
            "6 x 6 = 36\n",
            "6 x 7 = 42\n",
            "6 x 8 = 48\n",
            "6 x 9 = 54\n",
            "6 x 10 = 60\n",
            "\n",
            "Tabla de 7:\n",
            "7 x 1 = 7\n",
            "7 x 2 = 14\n",
            "7 x 3 = 21\n",
            "7 x 4 = 28\n",
            "7 x 5 = 35\n",
            "7 x 6 = 42\n",
            "7 x 7 = 49\n",
            "7 x 8 = 56\n",
            "7 x 9 = 63\n",
            "7 x 10 = 70\n",
            "\n",
            "Tabla de 8:\n",
            "8 x 1 = 8\n",
            "8 x 2 = 16\n",
            "8 x 3 = 24\n",
            "8 x 4 = 32\n",
            "8 x 5 = 40\n",
            "8 x 6 = 48\n",
            "8 x 7 = 56\n",
            "8 x 8 = 64\n",
            "8 x 9 = 72\n",
            "8 x 10 = 80\n",
            "\n",
            "Tabla de 9:\n",
            "9 x 1 = 9\n",
            "9 x 2 = 18\n",
            "9 x 3 = 27\n",
            "9 x 4 = 36\n",
            "9 x 5 = 45\n",
            "9 x 6 = 54\n",
            "9 x 7 = 63\n",
            "9 x 8 = 72\n",
            "9 x 9 = 81\n",
            "9 x 10 = 90\n",
            "\n",
            "Tabla de 10:\n",
            "10 x 1 = 10\n",
            "10 x 2 = 20\n",
            "10 x 3 = 30\n",
            "10 x 4 = 40\n",
            "10 x 5 = 50\n",
            "10 x 6 = 60\n",
            "10 x 7 = 70\n",
            "10 x 8 = 80\n",
            "10 x 9 = 90\n",
            "10 x 10 = 100\n",
            "\n"
          ]
        }
      ]
    },
    {
      "cell_type": "code",
      "source": [
        "es_perfecto = lambda num: sum(i for i in range(1, num) if num % i == 0) == num\n",
        "\n",
        "def numeros_perfectos(n):\n",
        "    return [num for num in range(2, n + 1) if es_perfecto(num)]\n",
        "\n",
        "n = int(input(\"Ingresa un número hasta el cual encontrar números perfectos: \"))\n",
        "\n",
        "print(f\"Los números perfectos hasta {n} son: {numeros_perfectos(n)}\")\n"
      ],
      "metadata": {
        "colab": {
          "base_uri": "https://localhost:8080/"
        },
        "id": "YXhwLmDS3JMF",
        "outputId": "407ba3b4-7a00-40b5-c8b1-e7c763292739"
      },
      "execution_count": null,
      "outputs": [
        {
          "output_type": "stream",
          "name": "stdout",
          "text": [
            "Ingresa un número hasta el cual encontrar números perfectos: 25\n",
            "Los números perfectos hasta 25 son: [6]\n"
          ]
        }
      ]
    },
    {
      "cell_type": "code",
      "source": [
        "def patron_diamante(filas):\n",
        "    for i in range(1, filas + 1):\n",
        "        print(' ' * (filas - i) + '*' * (2 * i - 1))\n",
        "    for i in range(filas - 1, 0, -1):\n",
        "        print(' ' * (filas - i) + '*' * (2 * i - 1))\n",
        "\n",
        "filas = int(input(\"Ingresa el número de filas para el diamante: \"))\n",
        "\n",
        "patron_diamante(filas)\n"
      ],
      "metadata": {
        "colab": {
          "base_uri": "https://localhost:8080/"
        },
        "id": "lQTw9VPi3VA1",
        "outputId": "6acd8497-8ba6-4f70-e0e2-d84c4124f9fa"
      },
      "execution_count": null,
      "outputs": [
        {
          "output_type": "stream",
          "name": "stdout",
          "text": [
            "Ingresa el número de filas para el diamante: 5\n",
            "    *\n",
            "   ***\n",
            "  *****\n",
            " *******\n",
            "*********\n",
            " *******\n",
            "  *****\n",
            "   ***\n",
            "    *\n"
          ]
        }
      ]
    },
    {
      "cell_type": "code",
      "source": [
        "es_armstrong = lambda num: num == sum(int(digit) ** len(str(num)) for digit in str(num))\n",
        "\n",
        "def numeros_armstrong(n):\n",
        "    return [num for num in range(1, n + 1) if es_armstrong(num)]\n",
        "\n",
        "n = int(input(\"Ingresa un número hasta el cual encontrar números Armstrong: \"))\n",
        "\n",
        "print(f\"Los números Armstrong hasta {n} son: {numeros_armstrong(n)}\")\n"
      ],
      "metadata": {
        "colab": {
          "base_uri": "https://localhost:8080/"
        },
        "id": "F-5t3uVV3ak1",
        "outputId": "19049a83-7ad1-4b03-80b2-01510371e284"
      },
      "execution_count": null,
      "outputs": [
        {
          "output_type": "stream",
          "name": "stdout",
          "text": [
            "Ingresa un número hasta el cual encontrar números Armstrong: 25\n",
            "Los números Armstrong hasta 25 son: [1, 2, 3, 4, 5, 6, 7, 8, 9]\n"
          ]
        }
      ]
    },
    {
      "cell_type": "code",
      "source": [
        "import time\n",
        "\n",
        "def reloj_digital(duracion):\n",
        "    horas = 0\n",
        "    minutos = 0\n",
        "    segundos = 0\n",
        "\n",
        "    while segundos < duracion:\n",
        "        print(f\"{horas:02d}:{minutos:02d}:{segundos:02d}\", end='\\r')\n",
        "        time.sleep(1)\n",
        "        segundos += 1\n",
        "        if segundos == 60:\n",
        "            segundos = 0\n",
        "            minutos += 1\n",
        "            if minutos == 60:\n",
        "                minutos = 0\n",
        "                horas += 1\n",
        "\n",
        "duracion = int(input(\"Ingresa la duración en segundos para simular el reloj: \"))\n",
        "\n",
        "reloj_digital(duracion)\n"
      ],
      "metadata": {
        "colab": {
          "base_uri": "https://localhost:8080/"
        },
        "id": "Kd9wWwn43egN",
        "outputId": "1752b874-ecb2-4f7f-efb8-2ce5a6f36d29"
      },
      "execution_count": null,
      "outputs": [
        {
          "output_type": "stream",
          "name": "stdout",
          "text": [
            "Ingresa la duración en segundos para simular el reloj: 2\n"
          ]
        }
      ]
    }
  ]
}